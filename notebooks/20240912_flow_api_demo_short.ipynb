{
 "cells": [
  {
   "cell_type": "markdown",
   "id": "76e984dd-f865-4c2b-aa35-1c0a455520e9",
   "metadata": {},
   "source": [
    "# FLOW_API Demonstration\n",
    "\n",
    "## FLOW project meeting\n",
    "\n",
    "### Leuven, 10-11 Sep 2024"
   ]
  },
  {
   "cell_type": "code",
   "execution_count": null,
   "id": "b130c092-9679-4b59-bbcd-334ca31c9622",
   "metadata": {
    "scrolled": true
   },
   "outputs": [],
   "source": [
    "%matplotlib inline\n",
    "import os\n",
    "import xarray as xr\n",
    "import matplotlib.pyplot as plt\n",
    "from ncplot import view\n",
    "\n",
    "from windIO.utils.yml_utils import validate_yaml\n",
    "from windIO.utils import plant_schemas_path\n",
    "\n",
    "from flow_api import run_foxes, run_pywake #, run_wayve, run_code_saturne"
   ]
  },
  {
   "cell_type": "markdown",
   "id": "92756d63-e41e-45a6-849e-cd6ac922c9d0",
   "metadata": {},
   "source": [
    "## Currently available example cases"
   ]
  },
  {
   "cell_type": "code",
   "execution_count": null,
   "id": "02fbdb36-c793-4f7b-9210-5f8a589055af",
   "metadata": {},
   "outputs": [],
   "source": [
    "!(cd ../examples/cases && tree -L 1)"
   ]
  },
  {
   "cell_type": "markdown",
   "id": "eecad356-bae1-4822-8c7d-aea74c102145",
   "metadata": {},
   "source": [
    "## Example 1: Four turbines in a row, homogeneous inflow timeseries"
   ]
  },
  {
   "cell_type": "markdown",
   "id": "73007bdc-f74a-4501-89aa-076a00d5e367",
   "metadata": {},
   "source": [
    "This case is called \"windio_4turbines\". The input data file structure looks like this:"
   ]
  },
  {
   "cell_type": "code",
   "execution_count": null,
   "id": "80bb1bb3-264c-4176-8699-dba86b96eef6",
   "metadata": {},
   "outputs": [],
   "source": [
    "!(cd ../examples/cases/windio_4turbines && tree)"
   ]
  },
  {
   "cell_type": "markdown",
   "id": "4bac55ba-5d21-4eaf-97cc-5ccaba483f11",
   "metadata": {},
   "source": [
    "The main file of this case is called \"FLOW_toy_study_wind_energy_system.yaml\". It follows the windio schema. Notice how other files are referenced via the `!include` command:"
   ]
  },
  {
   "cell_type": "code",
   "execution_count": null,
   "id": "d521101d-888f-446a-ab51-3abc94322025",
   "metadata": {},
   "outputs": [],
   "source": [
    "!cat ../examples/cases/windio_4turbines/wind_energy_system/system.yaml"
   ]
  },
  {
   "cell_type": "markdown",
   "id": "0bdf3f4d-2b8e-4045-90fd-f5d367c602dc",
   "metadata": {},
   "source": [
    "This is the \"analysis\" input file:"
   ]
  },
  {
   "cell_type": "code",
   "execution_count": null,
   "id": "f2dcf79a-6c8a-407b-81fd-d815d0fd10f1",
   "metadata": {},
   "outputs": [],
   "source": [
    "!head -n 27 ../examples/cases/windio_4turbines/wind_energy_system/analysis.yaml"
   ]
  },
  {
   "cell_type": "markdown",
   "id": "02b2847f-802f-4746-8bdb-eab7c4886d1d",
   "metadata": {},
   "source": [
    "We can validate the input with windIO's `validate` function:"
   ]
  },
  {
   "cell_type": "code",
   "execution_count": null,
   "id": "cb26c6e6-25e2-441f-827e-85c76f9bcc53",
   "metadata": {},
   "outputs": [],
   "source": [
    "input_yaml = \"../examples/cases/windio_4turbines/wind_energy_system/system.yaml\"\n",
    "validate_yaml(input_yaml, plant_schemas_path + 'wind_energy_system.yaml')"
   ]
  },
  {
   "cell_type": "markdown",
   "id": "f2e60584-a6bb-46a7-95c6-3a19d0219ff7",
   "metadata": {},
   "source": [
    "The `flow_model` under `attributes` states `foxes`, which means that a call of the main `flow_api` would ask `foxes` to compute results. However, this choice can be overruled by specified functions/commands.\n",
    "\n",
    "**Provided python functions:**\n",
    "- *run_api(input_yaml)*: Run the case with the flow model specified in the yaml file\n",
    "- *run_foxes(input_yaml)*: Run the case with `foxes`\n",
    "- *run_pywake(input_yaml)*: Run the case with `PyWake`\n",
    "- *run_wayve(input_yaml)*: Run the case with `WAYVE`\n",
    "- *run_code_saturne(input_yaml)*: Run the case with `code_saturne`\n",
    "\n",
    "**Provided command-line tools:**\n",
    "- *flow_api input_yaml*: Run the case with the flow model specified in the yaml file\n",
    "- *flow_api_foxes input_yaml)*: Run the case with `foxes`\n",
    "- *flow_api_pywake input_yaml)*: Run the case with `PyWake`\n",
    "- *flow_api_wayve input_yaml)*: Run the case with `WAYVE`\n",
    "- *flow_api_code_saturne input_yaml)*: Run the case with `code_saturne`\n",
    "\n",
    "For example, we can run the main API call like as follows (Note that the \"!\" is only needed because we are in a notebook here, not a terminal):"
   ]
  },
  {
   "cell_type": "code",
   "execution_count": null,
   "id": "917c4d01-a051-43e9-bc14-79d925e90c5c",
   "metadata": {
    "scrolled": true
   },
   "outputs": [],
   "source": [
    "!flow_api ../examples/cases/windio_4turbines/wind_energy_system/system.yaml"
   ]
  },
  {
   "cell_type": "markdown",
   "id": "a7b500a3-bdaf-4709-8624-4f25228e0d7d",
   "metadata": {},
   "source": [
    "Notice that the outputs that were defined in the `yaml` above triggered the writing of two output files:"
   ]
  },
  {
   "cell_type": "code",
   "execution_count": null,
   "id": "dc0537b6-a162-4d1a-8beb-53ca981f8e14",
   "metadata": {
    "scrolled": true
   },
   "outputs": [],
   "source": [
    "!tree results"
   ]
  },
  {
   "cell_type": "code",
   "execution_count": null,
   "id": "d30a4fda-8a5e-4e0d-81e9-2b826fd8c6fc",
   "metadata": {},
   "outputs": [],
   "source": [
    "view(\"results/flow_field.nc\", vars= \"wind_speed\")"
   ]
  },
  {
   "cell_type": "code",
   "execution_count": null,
   "id": "1536b000-6d65-4912-a6fc-ff252ffa7f0a",
   "metadata": {},
   "outputs": [],
   "source": [
    "view(\"results/turbine_data.nc\")"
   ]
  },
  {
   "cell_type": "markdown",
   "id": "502e48f7-083b-446f-8252-d9afd6400b51",
   "metadata": {},
   "source": [
    "## Comparison of foxes and PyWake"
   ]
  },
  {
   "cell_type": "markdown",
   "id": "fb1c495b-5bf8-4d0f-a9c2-b24862936bef",
   "metadata": {},
   "source": [
    "Let's re-run `foxes`, but now a version that does not export the flow field, and now using the Python function:"
   ]
  },
  {
   "cell_type": "code",
   "execution_count": null,
   "id": "7c396b7a-1cb6-44b0-bd8f-ac60db66d025",
   "metadata": {},
   "outputs": [],
   "source": [
    "input_yaml = \"../examples/cases/windio_4turbines/wind_energy_system/system_no_field.yaml\"\n",
    "validate_yaml(input_yaml, plant_schemas_path + 'wind_energy_system.yaml')"
   ]
  },
  {
   "cell_type": "code",
   "execution_count": null,
   "id": "0245c288-36f3-4fc8-bff3-85b84ddbf684",
   "metadata": {},
   "outputs": [],
   "source": [
    "!rm -rf results\n",
    "run_foxes(input_yaml)"
   ]
  },
  {
   "cell_type": "code",
   "execution_count": null,
   "id": "79098be7-e445-4603-890a-ccb22366492b",
   "metadata": {},
   "outputs": [],
   "source": [
    "foxes_dat = xr.load_dataset('./results/turbine_data.nc')\n",
    "foxes_dat "
   ]
  },
  {
   "cell_type": "markdown",
   "id": "9ec05be3-f2b8-4a6e-b1ca-5a5ceb2b1b3d",
   "metadata": {},
   "source": [
    "We now run `PyWake` on the same input, by using the `run_pywake` function. It writes to a folder called `output`:"
   ]
  },
  {
   "cell_type": "code",
   "execution_count": null,
   "id": "df4b9411-d09c-492f-9311-396e6f619849",
   "metadata": {
    "scrolled": true
   },
   "outputs": [],
   "source": [
    "!rm -rf output && mkdir output\n",
    "run_pywake(input_yaml)"
   ]
  },
  {
   "cell_type": "code",
   "execution_count": null,
   "id": "77019e4c-9fea-47c1-a743-211a66ece2a9",
   "metadata": {},
   "outputs": [],
   "source": [
    "pywake_dat = xr.load_dataset('output/PowerTable.nc')\n",
    "pywake_dat"
   ]
  },
  {
   "cell_type": "markdown",
   "id": "b2a2ea83-ef35-4fe4-87e6-20f3b9299756",
   "metadata": {},
   "source": [
    "Now that all results have been computer - let's compare the outcome:"
   ]
  },
  {
   "cell_type": "code",
   "execution_count": null,
   "id": "2c63a1e6-dc62-4c3e-95da-691bc325301d",
   "metadata": {},
   "outputs": [],
   "source": [
    "plt.plot(pywake_dat.turbine, pywake_dat.power.mean('time'),c='orange', label=\"pywake\")\n",
    "plt.plot(foxes_dat.turbine, foxes_dat.power.mean('time'), ls='-.',c='blue', label=\"foxes\")\n",
    "plt.xlabel('Turbine Index')\n",
    "plt.ylabel('Mean power [W]')\n",
    "plt.legend()\n",
    "plt.show()"
   ]
  },
  {
   "cell_type": "code",
   "execution_count": null,
   "id": "dbfa55bc-d317-4e85-80d5-2032234a0811",
   "metadata": {},
   "outputs": [],
   "source": [
    "plt.scatter(pywake_dat.wd, pywake_dat.sel(turbine=1).power, c='orange', marker='o',alpha=0.8, label=\"pywake\")\n",
    "plt.scatter(pywake_dat.wd, foxes_dat.sel(turbine=1).power, c='blue', marker='x',alpha=0.5, label=\"foxes\")\n",
    "plt.xlabel('Wind direction [°]')\n",
    "plt.ylabel('Mean power [W]')\n",
    "plt.legend()\n",
    "plt.show()"
   ]
  },
  {
   "cell_type": "markdown",
   "id": "f39e8005-470e-4d09-bb76-20cd7e09bb13",
   "metadata": {},
   "source": [
    "## Example 2: Four turbines, vertical wind inflow profile"
   ]
  },
  {
   "cell_type": "markdown",
   "id": "01f01be2-0080-4c26-b2ce-44abdc68c6bd",
   "metadata": {},
   "source": [
    "We now want to look at the effect of averaging a background wind profile over the rotor disc area. This is the inflow data, applied to the same four-turbine wind farm of above:"
   ]
  },
  {
   "cell_type": "code",
   "execution_count": null,
   "id": "c75413e7-969c-4720-9d12-9e6d913479d9",
   "metadata": {
    "scrolled": true
   },
   "outputs": [],
   "source": [
    "view(\"../examples/cases/windio_4turbines_profiles_stable/plant_energy_resource/Stochastic_nieuwstadt_profiles.nc\")"
   ]
  },
  {
   "cell_type": "markdown",
   "id": "c650863d-e38c-4ddf-815d-4feedb8d64f0",
   "metadata": {},
   "source": [
    "First we wish to compute results by evaluating the background at the rotor centre points only. The wakes are evaluated on a weighted 7 x 7 grid of points. These are the corresponding windio yaml files:"
   ]
  },
  {
   "cell_type": "code",
   "execution_count": null,
   "id": "41971100-4cc7-4ae0-9767-851da3e2ec01",
   "metadata": {},
   "outputs": [],
   "source": [
    "input_yaml_centre = \"../examples/cases/windio_4turbines_profiles_stable/wind_energy_system/system.yaml\"\n",
    "input_yaml_grid = \"../examples/cases/windio_4turbines_profiles_stable/wind_energy_system/system_grid.yaml\"\n",
    "validate_yaml(input_yaml_centre, plant_schemas_path + 'wind_energy_system.yaml')\n",
    "validate_yaml(input_yaml_grid, plant_schemas_path + 'wind_energy_system.yaml')"
   ]
  },
  {
   "cell_type": "code",
   "execution_count": null,
   "id": "38fa9cae-acd4-43f9-a832-e769fce9ccc3",
   "metadata": {},
   "outputs": [],
   "source": [
    "!head -n 27 ../examples/cases/windio_4turbines_profiles_stable/wind_energy_system/analysis_grid.yaml"
   ]
  },
  {
   "cell_type": "code",
   "execution_count": null,
   "id": "eef0a1d3-4ba2-4918-876a-7233d1d87ef3",
   "metadata": {},
   "outputs": [],
   "source": [
    "!rm -rf results\n",
    "run_foxes(input_yaml_centre)\n",
    "centre_dat = xr.load_dataset('./results/turbine_data.nc')"
   ]
  },
  {
   "cell_type": "markdown",
   "id": "c98b8002-8010-4847-8549-11377316d16c",
   "metadata": {},
   "source": [
    "Now we re-run this, using the 7 x 7 grid also for the background averagine. These are the input yaml files, notice the difference in the rotor averaging:"
   ]
  },
  {
   "cell_type": "code",
   "execution_count": null,
   "id": "acf2e52e-1799-4564-83e9-cc19a498feb7",
   "metadata": {
    "scrolled": true
   },
   "outputs": [],
   "source": [
    "!rm -rf results/turbine_data_grid.nc\n",
    "run_foxes(input_yaml_grid)\n",
    "grid_dat = xr.load_dataset('./results/turbine_data_grid.nc')"
   ]
  },
  {
   "cell_type": "markdown",
   "id": "975e0c10-7592-47c5-8c5b-664f8b4910b5",
   "metadata": {},
   "source": [
    "This shows a comparison of the time-averaged power results of the four turbines:"
   ]
  },
  {
   "cell_type": "code",
   "execution_count": null,
   "id": "b49045c2-93bf-4338-9535-e48235f0feef",
   "metadata": {},
   "outputs": [],
   "source": [
    "P_centre = centre_dat.power.mean(\"time\")\n",
    "P_grid = grid_dat.power.mean(\"time\")\n",
    "plt.plot(centre_dat.turbine, P_centre, label=\"centre\")\n",
    "plt.plot(grid_dat.turbine, P_grid, label=\"grid49\")\n",
    "plt.legend()\n",
    "plt.xlabel(\"Turbine index\")\n",
    "plt.ylabel(\"Mean power [W]\")\n",
    "plt.show()"
   ]
  }
 ],
 "metadata": {
  "kernelspec": {
   "display_name": "Python 3 (ipykernel)",
   "language": "python",
   "name": "python3"
  },
  "language_info": {
   "codemirror_mode": {
    "name": "ipython",
    "version": 3
   },
   "file_extension": ".py",
   "mimetype": "text/x-python",
   "name": "python",
   "nbconvert_exporter": "python",
   "pygments_lexer": "ipython3",
   "version": "3.12.3"
  }
 },
 "nbformat": 4,
 "nbformat_minor": 5
}
