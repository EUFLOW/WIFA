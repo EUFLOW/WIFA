{
 "cells": [
  {
   "cell_type": "code",
   "execution_count": null,
   "id": "bcee1134",
   "metadata": {},
   "outputs": [],
   "source": [
    "from windIO.utils.yml_utils import validate_yaml\n",
    "from flow_api import run_foxes, run_pywake\n",
    "import os\n",
    "import xarray as xr\n",
    "from windIO.utils import plant_schemas_path\n",
    "import matplotlib.pyplot as plt"
   ]
  },
  {
   "cell_type": "code",
   "execution_count": null,
   "id": "2da909ae",
   "metadata": {},
   "outputs": [],
   "source": [
    "yml_input = '../examples/cases/windio_4turbines/wind_energy_system/FLOW_toy_study_wind_energy_system.yaml'\n",
    "os.makedirs('output', exist_ok=True)"
   ]
  },
  {
   "cell_type": "code",
   "execution_count": null,
   "id": "509235b1",
   "metadata": {},
   "outputs": [],
   "source": [
    "validate_yaml(yml_input, plant_schemas_path + 'wind_energy_system.yaml')"
   ]
  },
  {
   "cell_type": "code",
   "execution_count": null,
   "id": "c4b97027",
   "metadata": {
    "scrolled": true
   },
   "outputs": [],
   "source": [
    "run_foxes(yml_input)"
   ]
  },
  {
   "cell_type": "code",
   "execution_count": null,
   "id": "acf48dd4-1451-49ad-bf9e-ab6cce8686ca",
   "metadata": {},
   "outputs": [],
   "source": [
    "foxes_dat = xr.load_dataset('./results/turbine_data.nc')\n",
    "foxes_dat "
   ]
  },
  {
   "cell_type": "code",
   "execution_count": null,
   "id": "626a597d",
   "metadata": {
    "scrolled": true
   },
   "outputs": [],
   "source": [
    "run_pywake(yml_input)"
   ]
  },
  {
   "cell_type": "code",
   "execution_count": null,
   "id": "3f26db3c",
   "metadata": {},
   "outputs": [],
   "source": [
    "pywake_dat = xr.load_dataset('output/PowerTable.nc')\n",
    "pywake_dat"
   ]
  },
  {
   "cell_type": "code",
   "execution_count": null,
   "id": "d62036bb",
   "metadata": {},
   "outputs": [],
   "source": [
    "plt.plot(pywake_dat.turbine, pywake_dat.power.mean('time'),c='orange', label=\"pywake\")\n",
    "plt.plot(foxes_dat.turbine, foxes_dat.power.mean('time') / 1e3, ls='-.',c='blue', label=\"foxes\")\n",
    "plt.xlabel('Turbine Number')\n",
    "plt.ylabel('Power (kW)')\n",
    "plt.legend()\n",
    "plt.show()"
   ]
  },
  {
   "cell_type": "code",
   "execution_count": null,
   "id": "a71c63eb",
   "metadata": {},
   "outputs": [],
   "source": [
    "plt.scatter(pywake_dat.wd, pywake_dat.sel(turbine=1).power, c='orange', marker='o',alpha=0.8, label=\"pywake\")\n",
    "plt.scatter(pywake_dat.wd, foxes_dat.sel(turbine=1).power / 1e3, c='blue', marker='x',alpha=0.5, label=\"foxes\")\n",
    "plt.xlabel('Wind direction [°]')\n",
    "plt.ylabel('Power (kW)')\n",
    "plt.legend()\n",
    "plt.show()"
   ]
  },
  {
   "cell_type": "code",
   "execution_count": null,
   "id": "6ddf9173",
   "metadata": {},
   "outputs": [],
   "source": []
  },
  {
   "cell_type": "code",
   "execution_count": null,
   "id": "beab793a",
   "metadata": {},
   "outputs": [],
   "source": [
    "     "
   ]
  }
 ],
 "metadata": {
  "kernelspec": {
   "display_name": "Python 3 (ipykernel)",
   "language": "python",
   "name": "python3"
  },
  "language_info": {
   "codemirror_mode": {
    "name": "ipython",
    "version": 3
   },
   "file_extension": ".py",
   "mimetype": "text/x-python",
   "name": "python",
   "nbconvert_exporter": "python",
   "pygments_lexer": "ipython3",
   "version": "3.12.3"
  }
 },
 "nbformat": 4,
 "nbformat_minor": 5
}
