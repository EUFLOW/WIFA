{
 "cells": [
  {
   "cell_type": "markdown",
   "metadata": {},
   "source": [
    "# Wind speed comparison: foxes vs saturne"
   ]
  },
  {
   "cell_type": "code",
   "execution_count": 2,
   "metadata": {},
   "outputs": [],
   "source": [
    "import numpy as np \n",
    "import pandas as pd \n",
    "import matplotlib.pyplot as plt \n",
    "from pathlib import Path"
   ]
  },
  {
   "cell_type": "code",
   "execution_count": 8,
   "metadata": {},
   "outputs": [
    {
     "name": "stdout",
     "output_type": "stream",
     "text": [
      "                    WD  AMB_REWS     REWS        CT            P\n",
      "state turbine                                                   \n",
      "0.0   0        271.825   10.0910  10.0910  0.814000  7055666.362\n",
      "      1        271.825   10.0910   8.5996  0.814000  4398065.743\n",
      "      2        271.825   10.0910   8.1828  0.814000  3778589.409\n",
      "      3        271.825   10.0910   7.9915  0.814372  3497124.719\n",
      "1.0   0        266.201   10.2330  10.2330  0.814000  7377578.741\n",
      "...                ...       ...      ...       ...          ...\n",
      "98.0  3        276.359    9.6321   8.8489  0.814000  4768487.290\n",
      "99.0  0        267.295   10.1222  10.1222  0.814000  7126441.639\n",
      "      1        267.295   10.1222   8.7437  0.814000  4612126.134\n",
      "      2        267.295   10.1222   8.3872  0.814000  4082378.357\n",
      "      3        267.295   10.1222   8.2277  0.814000  3845310.597\n",
      "\n",
      "[400 rows x 5 columns]\n",
      "                          1.007785233463371988e+01  \\\n",
      "0.000000000000000000e+00                             \n",
      "1.0                                      10.286058   \n",
      "2.0                                       8.775240   \n",
      "3.0                                       9.713982   \n",
      "4.0                                       9.828984   \n",
      "5.0                                      10.289971   \n",
      "...                                            ...   \n",
      "95.0                                      9.931270   \n",
      "96.0                                      9.977662   \n",
      "97.0                                      9.064492   \n",
      "98.0                                      9.697074   \n",
      "99.0                                     10.110271   \n",
      "\n",
      "                          0.000000000000000000e+00.1  \\\n",
      "0.000000000000000000e+00                               \n",
      "1.0                                              0.0   \n",
      "2.0                                              0.0   \n",
      "3.0                                              0.0   \n",
      "4.0                                              0.0   \n",
      "5.0                                              0.0   \n",
      "...                                              ...   \n",
      "95.0                                             0.0   \n",
      "96.0                                             0.0   \n",
      "97.0                                             0.0   \n",
      "98.0                                             0.0   \n",
      "99.0                                             0.0   \n",
      "\n",
      "                          0.000000000000000000e+00.2  \\\n",
      "0.000000000000000000e+00                               \n",
      "1.0                                              0.0   \n",
      "2.0                                              0.0   \n",
      "3.0                                              0.0   \n",
      "4.0                                              0.0   \n",
      "5.0                                              0.0   \n",
      "...                                              ...   \n",
      "95.0                                             0.0   \n",
      "96.0                                             0.0   \n",
      "97.0                                             0.0   \n",
      "98.0                                             0.0   \n",
      "99.0                                             0.0   \n",
      "\n",
      "                          0.000000000000000000e+00.3  \n",
      "0.000000000000000000e+00                              \n",
      "1.0                                              0.0  \n",
      "2.0                                              0.0  \n",
      "3.0                                              0.0  \n",
      "4.0                                              0.0  \n",
      "5.0                                              0.0  \n",
      "...                                              ...  \n",
      "95.0                                             0.0  \n",
      "96.0                                             0.0  \n",
      "97.0                                             0.0  \n",
      "98.0                                             0.0  \n",
      "99.0                                             0.0  \n",
      "\n",
      "[99 rows x 4 columns]\n"
     ]
    }
   ],
   "source": [
    "fpath_foxes_A = Path(\"foxes_results/windio_toy/turbine_data_windio_toy_foxes_A.csv\")\n",
    "fpath_foxes_B = Path(\"foxes_results/windio_toy/turbine_data_windio_toy_foxes_B.csv\")\n",
    "fpath_foxes_C = Path(\"foxes_results/windio_toy/turbine_data_windio_toy_foxes_C.csv\")\n",
    "fpath_saturne = Path(\"flow_tools_results/code_saturne_results/windio_toy/MC_hub_timeseries_isol_FreeStreamVelocity_code_saturne.csv\")\n",
    "\n",
    "data_foxes_A = pd.read_csv(fpath_foxes_A).set_index([\"state\", \"turbine\"])\n",
    "data_foxes_B = pd.read_csv(fpath_foxes_B).set_index([\"state\", \"turbine\"])\n",
    "data_foxes_C = pd.read_csv(fpath_foxes_C).set_index([\"state\", \"turbine\"])\n",
    "print(data_foxes_A)\n",
    "\n",
    "data_saturne = pd.read_csv(fpath_saturne, skiprows=1, names=[\"Time\", \"WS0, \"WS1\", WS2\", \"WS3\"], index_col=0)\n",
    "print(data_saturne)"
   ]
  },
  {
   "cell_type": "code",
   "execution_count": null,
   "metadata": {},
   "outputs": [],
   "source": []
  }
 ],
 "metadata": {
  "kernelspec": {
   "display_name": "foxes",
   "language": "python",
   "name": "python3"
  },
  "language_info": {
   "codemirror_mode": {
    "name": "ipython",
    "version": 3
   },
   "file_extension": ".py",
   "mimetype": "text/x-python",
   "name": "python",
   "nbconvert_exporter": "python",
   "pygments_lexer": "ipython3",
   "version": "3.8.10"
  }
 },
 "nbformat": 4,
 "nbformat_minor": 2
}
