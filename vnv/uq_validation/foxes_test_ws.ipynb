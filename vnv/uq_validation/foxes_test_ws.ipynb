{
 "cells": [
  {
   "cell_type": "markdown",
   "metadata": {},
   "source": [
    "# Wind speed comparison: foxes vs saturne"
   ]
  },
  {
   "cell_type": "code",
   "execution_count": 2,
   "metadata": {},
   "outputs": [],
   "source": [
    "import numpy as np \n",
    "import pandas as pd \n",
    "import matplotlib.pyplot as plt \n",
    "from pathlib import Path"
   ]
  },
  {
   "cell_type": "code",
   "execution_count": 15,
   "metadata": {},
   "outputs": [
    {
     "name": "stdout",
     "output_type": "stream",
     "text": [
      "       turbine       WD  AMB_REWS     REWS        CT            P\n",
      "state                                                            \n",
      "0.0          0  271.825   10.0910  10.0910  0.814000  7055666.362\n",
      "0.0          1  271.825   10.0910   8.5996  0.814000  4398065.743\n",
      "0.0          2  271.825   10.0910   8.1828  0.814000  3778589.409\n",
      "0.0          3  271.825   10.0910   7.9915  0.814372  3497124.719\n",
      "1.0          0  266.201   10.2330  10.2330  0.814000  7377578.741\n",
      "...        ...      ...       ...      ...       ...          ...\n",
      "98.0         3  276.359    9.6321   8.8489  0.814000  4768487.290\n",
      "99.0         0  267.295   10.1222  10.1222  0.814000  7126441.639\n",
      "99.0         1  267.295   10.1222   8.7437  0.814000  4612126.134\n",
      "99.0         2  267.295   10.1222   8.3872  0.814000  4082378.357\n",
      "99.0         3  267.295   10.1222   8.2277  0.814000  3845310.597\n",
      "\n",
      "[400 rows x 6 columns]\n",
      "            WS0       WS1       WS2       WS3\n",
      "Time                                         \n",
      "0.0   10.055495  8.407037  8.080755  7.959933\n",
      "1.0   10.261744  8.916652  8.767414  8.742821\n",
      "2.0    8.754698  7.231844  6.896669  6.773775\n",
      "3.0    9.690227  8.402146  8.241311  8.214482\n",
      "4.0    9.803831  9.104596  9.126953  9.150149\n",
      "...         ...       ...       ...       ...\n",
      "95.0   9.907655  8.643888  8.491717  8.472014\n",
      "96.0   9.956702  8.186954  7.787898  7.640470\n",
      "97.0   9.042274  7.910828  7.777083  7.757000\n",
      "98.0   9.670943  8.958852  8.962066  8.987078\n",
      "99.0  10.086236  8.577654  8.332418  8.267022\n",
      "\n",
      "[100 rows x 4 columns]\n"
     ]
    }
   ],
   "source": [
    "fpath_foxes_A = Path(\"foxes_results/windio_toy/turbine_data_windio_toy_foxes_A.csv\")\n",
    "fpath_foxes_B = Path(\"foxes_results/windio_toy/turbine_data_windio_toy_foxes_B.csv\")\n",
    "fpath_foxes_C = Path(\"foxes_results/windio_toy/turbine_data_windio_toy_foxes_C.csv\")\n",
    "fpath_saturne = Path(\"flow_tools_results/code_saturne_results/windio_toy/MC_hub_timeseries_FreeStreamVelocity_code_saturne.csv\")\n",
    "\n",
    "data_foxes_A = pd.read_csv(fpath_foxes_A, index_col=0)\n",
    "data_foxes_B = pd.read_csv(fpath_foxes_B, index_col=0)\n",
    "data_foxes_C = pd.read_csv(fpath_foxes_C, index_col=0)\n",
    "print(data_foxes_A)\n",
    "\n",
    "data_saturne = pd.read_csv(fpath_saturne, skiprows=1, names=[\"Time\", \"WS0\", \"WS1\", \"WS2\", \"WS3\"], index_col=0)\n",
    "print(data_saturne)"
   ]
  },
  {
   "cell_type": "code",
   "execution_count": null,
   "metadata": {},
   "outputs": [],
   "source": []
  }
 ],
 "metadata": {
  "kernelspec": {
   "display_name": "foxes",
   "language": "python",
   "name": "python3"
  },
  "language_info": {
   "codemirror_mode": {
    "name": "ipython",
    "version": 3
   },
   "file_extension": ".py",
   "mimetype": "text/x-python",
   "name": "python",
   "nbconvert_exporter": "python",
   "pygments_lexer": "ipython3",
   "version": "3.8.10"
  }
 },
 "nbformat": 4,
 "nbformat_minor": 2
}
