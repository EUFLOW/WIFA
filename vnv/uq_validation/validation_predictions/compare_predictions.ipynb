{
 "cells": [
  {
   "cell_type": "code",
   "execution_count": 48,
   "id": "130e189a-0bcd-41d4-801e-e50d24f2223f",
   "metadata": {},
   "outputs": [],
   "source": [
    "import pandas as pd\n",
    "import xarray as xr\n",
    "import matplotlib.pyplot as plt\n",
    "import numpy as np"
   ]
  },
  {
   "cell_type": "code",
   "execution_count": 2,
   "id": "7c4d8afd-2d66-4b29-ad45-a0571f496168",
   "metadata": {},
   "outputs": [
    {
     "name": "stdout",
     "output_type": "stream",
     "text": [
      "pywake_FUGA.nc        pywake_linear_bast.nc\n"
     ]
    }
   ],
   "source": [
    "!ls pyWake/"
   ]
  },
  {
   "cell_type": "code",
   "execution_count": 3,
   "id": "b9ad1cf3-f618-4066-a2d4-0504308fc066",
   "metadata": {},
   "outputs": [
    {
     "name": "stdout",
     "output_type": "stream",
     "text": [
      "power_validation_inputs_foxes_A.csv\n",
      "power_validation_inputs_foxes_B.csv\n",
      "power_validation_inputs_foxes_C.csv\n",
      "power_validation_inputs_foxes_D.csv\n",
      "power_validation_inputs_foxes_E.csv\n",
      "power_validation_inputs_foxes_F.csv\n",
      "power_validation_inputs_foxes_G.csv\n",
      "turbine_data_validation_inputs_foxes_A.nc\n",
      "turbine_data_validation_inputs_foxes_B.nc\n",
      "turbine_data_validation_inputs_foxes_C.nc\n",
      "turbine_data_validation_inputs_foxes_D.nc\n",
      "turbine_data_validation_inputs_foxes_E.nc\n",
      "turbine_data_validation_inputs_foxes_F.nc\n",
      "turbine_data_validation_inputs_foxes_G.nc\n"
     ]
    }
   ],
   "source": [
    "!ls foxes/"
   ]
  },
  {
   "cell_type": "code",
   "execution_count": 4,
   "id": "9045336c-7572-404b-8411-37df71942c2f",
   "metadata": {},
   "outputs": [
    {
     "name": "stdout",
     "output_type": "stream",
     "text": [
      "power_windio_les_validation_wayve.csv\n"
     ]
    }
   ],
   "source": [
    "!ls WAYVE/"
   ]
  },
  {
   "cell_type": "code",
   "execution_count": 6,
   "id": "8043432f-e776-4fe6-9e39-75c21df6c24f",
   "metadata": {},
   "outputs": [],
   "source": [
    "pywake_no_blockage = xr.load_dataset('pyWake/pywake_linear_bast.nc')\n",
    "pywake_blockage = xr.load_dataset('pyWake/pywake_FUGA.nc')"
   ]
  },
  {
   "cell_type": "code",
   "execution_count": 10,
   "id": "48e5f0f2-e62f-46f4-8733-7fb82737b670",
   "metadata": {},
   "outputs": [],
   "source": [
    "letters = ['A', 'B', 'C', 'D', 'E', 'F', 'G']\n",
    "foxes_pred = [xr.load_dataset('foxes/turbine_data_validation_inputs_foxes_%s.nc' % letters[ii]) for ii in range(len(letters))]"
   ]
  },
  {
   "cell_type": "code",
   "execution_count": 31,
   "id": "9e783415-702d-4ee2-b29b-2b2e925248b2",
   "metadata": {},
   "outputs": [],
   "source": [
    "wayve_dat = pd.read_csv('WAYVE/power_windio_les_validation_wayve.csv')"
   ]
  },
  {
   "cell_type": "code",
   "execution_count": 39,
   "id": "0eff76f3-843c-4740-9362-04476f019971",
   "metadata": {},
   "outputs": [
    {
     "data": {
      "text/plain": [
       "(9197399.010476775, 10607.735034960418, 9562150.485011926)"
      ]
     },
     "execution_count": 39,
     "metadata": {},
     "output_type": "execute_result"
    }
   ],
   "source": [
    "wayve_dat.iloc[0].values[1:].max(), foxes_pred[0].isel(state=0).P.values.max(),  pywake_no_blockage.isel(time=0).Power.values.max()"
   ]
  },
  {
   "cell_type": "code",
   "execution_count": null,
   "id": "3929a56a-dca8-46f3-ba78-b7902a4ee9f3",
   "metadata": {},
   "outputs": [],
   "source": []
  },
  {
   "cell_type": "code",
   "execution_count": 55,
   "id": "6930118a-8df3-42a3-a829-db8479d05d63",
   "metadata": {},
   "outputs": [
    {
     "name": "stdout",
     "output_type": "stream",
     "text": [
      "ok\n"
     ]
    },
    {
     "data": {
      "image/png": "[encoded data removed]",
      "text/plain": [
       "<Figure size 640x480 with 1 Axes>"
      ]
     },
     "metadata": {},
     "output_type": "display_data"
    }
   ],
   "source": [
    "plt.hist(foxes_pred[0].isel(state=0).P * 100, 200, cumulative=True, histtype='step', edgecolor='purple')\n",
    "plt.hist(wayve_dat.iloc[0].values[1:], 200, cumulative=True, histtype='step', edgecolor='red')\n",
    "plt.hist(pywake_no_blockage.isel(time=0).Power, 200, cumulative=True, histtype='step', edgecolor='blue')\n",
    "plt.hist(pywake_blockage.isel(time=0).Power, 200, cumulative=True, histtype='step', edgecolor='pink')\n",
    "print('ok')"
   ]
  },
  {
   "cell_type": "code",
   "execution_count": null,
   "id": "51fb2d9f-5ca3-4ad6-9767-fb4fd26f7793",
   "metadata": {},
   "outputs": [],
   "source": []
  },
  {
   "cell_type": "code",
   "execution_count": null,
   "id": "76b6b6bc-9881-4ac0-9a9b-3852c81e9545",
   "metadata": {},
   "outputs": [],
   "source": []
  }
 ],
 "metadata": {
  "kernelspec": {
   "display_name": "Python 3 (ipykernel)",
   "language": "python",
   "name": "python3"
  },
  "language_info": {
   "codemirror_mode": {
    "name": "ipython",
    "version": 3
   },
   "file_extension": ".py",
   "mimetype": "text/x-python",
   "name": "python",
   "nbconvert_exporter": "python",
   "pygments_lexer": "ipython3",
   "version": "3.10.13"
  }
 },
 "nbformat": 4,
 "nbformat_minor": 5
}
